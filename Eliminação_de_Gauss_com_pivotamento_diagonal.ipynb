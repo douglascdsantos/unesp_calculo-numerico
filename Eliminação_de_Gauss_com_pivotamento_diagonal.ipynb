{
  "nbformat": 4,
  "nbformat_minor": 0,
  "metadata": {
    "colab": {
      "provenance": [],
      "authorship_tag": "ABX9TyOJYDLQxJX5ymSTNiPT0I0Z",
      "include_colab_link": true
    },
    "kernelspec": {
      "name": "python3",
      "display_name": "Python 3"
    },
    "language_info": {
      "name": "python"
    }
  },
  "cells": [
    {
      "cell_type": "markdown",
      "metadata": {
        "id": "view-in-github",
        "colab_type": "text"
      },
      "source": [
        "<a href=\"https://colab.research.google.com/github/douglascdsantos/unesp_calculo-numerico/blob/main/Elimina%C3%A7%C3%A3o_de_Gauss_com_pivotamento_diagonal.ipynb\" target=\"_parent\"><img src=\"https://colab.research.google.com/assets/colab-badge.svg\" alt=\"Open In Colab\"/></a>"
      ]
    },
    {
      "cell_type": "code",
      "execution_count": 17,
      "metadata": {
        "colab": {
          "base_uri": "https://localhost:8080/"
        },
        "id": "B5DYavYBrKLj",
        "outputId": "19cbebb0-9c2b-4adb-a867-41bcdd4be385"
      },
      "outputs": [
        {
          "output_type": "stream",
          "name": "stdout",
          "text": [
            "[0, 1, 1]\n",
            "[3, 2, 1]\n",
            "[-3, 0, 3]\n"
          ]
        }
      ],
      "source": [
        "import pandas as pd\n",
        "import numpy as np\n",
        "\n",
        "# n = int(input('tamanho da matriz quadrada: '))\n",
        "# print(f'Considerando a matriz quadrada A*x = b, com n = {n}\\ninsira:')\n",
        "# A = [[int(input(f'a({j+1};{i+1}): ')) for i in range(n)] for j in range(n)]\n",
        "# print(A)\n",
        "# b = [int(input(f'b({i+1}): ')) for i in range(n)]\n",
        "# print(b)\n",
        "\n",
        "def mostrar_matriz(matriz: list):\n",
        "    for i in matriz:\n",
        "        print(i)\n",
        "        \n",
        "def posicao_pivo(matriz_expadida: list, coluna = 2):\n",
        "    lim_sup = len(matriz_expadida) - 1\n",
        "    if 0 <= coluna and coluna < lim_sup:\n",
        "        pivo = None\n",
        "        for k,v in enumerate(matriz_expadida):\n",
        "            if v[coluna] != 0 and pivo == None:\n",
        "                print(f'Para a coluna {coluna} a({k};1) é pivô')\n",
        "                pivo = k\n",
        "        return pivo\n",
        "    else:\n",
        "        return f'Coluna fora do intervalo, insira coluna entre (0:{lim_sup})'\n",
        "\n",
        "def trocar_linha(matriz_expadida: list, linha_a_ser_movimentada):\n",
        "  matriz_expadida[0], matriz_expadida[linha_a_ser_movimentada] = matriz_expadida[linha_a_ser_movimentada], matriz_expadida[0]\n",
        "\n",
        "def verifica_triangular(matriz_expadida):\n",
        "  triangular = []\n",
        "  for index,linha in enumerate(matriz_expadida):\n",
        "    linha_verificar = index - 1\n",
        "    if linha_verificar >= 0:\n",
        "      for i in [linha[coluna] == 0 for coluna in range(linha_verificar + 1)]:\n",
        "        triangular.append(i)\n",
        "  return all(triangular)\n",
        "\n",
        "n = 3\n",
        "A = [[0, 1, 1],\n",
        "     [3, 2, 1],\n",
        "     [-3, 0, 3]\n",
        "    ]\n",
        "b = [1, 1, 3]\n",
        "\n",
        "\n",
        "\n",
        "\n",
        "\n",
        "\n",
        "\n",
        "mostrar_matriz(A)\n",
        "\n",
        "# a = posicao_pivo(A_expandida,1)\n",
        "# if a != 0:\n",
        "#     trocar_linha(A_expandida,a)\n",
        "# mostrar_matriz(A_expandida)"
      ]
    },
    {
      "cell_type": "code",
      "source": [
        "print('Determinante difente de zero' if np.linalg.det(A) != 0 else 'Determinante igual a zero')"
      ],
      "metadata": {
        "id": "lEri35-Th65z",
        "outputId": "aa9fdd0e-a085-425b-c57b-42e47d901284",
        "colab": {
          "base_uri": "https://localhost:8080/"
        }
      },
      "execution_count": 23,
      "outputs": [
        {
          "output_type": "stream",
          "name": "stdout",
          "text": [
            "Determinante difente de zero\n"
          ]
        }
      ]
    },
    {
      "cell_type": "code",
      "source": [
        "#matriz expandida\n",
        "A_expandida = A.copy()\n",
        "for k,v in enumerate(b):\n",
        "    A_expandida[k].append(v)"
      ],
      "metadata": {
        "id": "VZwV7FBhiBA_"
      },
      "execution_count": 24,
      "outputs": []
    },
    {
      "cell_type": "code",
      "source": [
        "mostrar_matriz(A_expandida)"
      ],
      "metadata": {
        "id": "zvNBlVZwrPA8",
        "outputId": "3a42938e-0e3b-435c-8deb-290f93de86e0",
        "colab": {
          "base_uri": "https://localhost:8080/"
        }
      },
      "execution_count": 25,
      "outputs": [
        {
          "output_type": "stream",
          "name": "stdout",
          "text": [
            "[0, 1, 1, 1]\n",
            "[3, 2, 1, 1]\n",
            "[-3, 0, 3, 3]\n"
          ]
        }
      ]
    },
    {
      "cell_type": "code",
      "source": [
        "# elemento a11 não nulo\n",
        "if A_expandida[0][0] == 0:\n",
        "  for index,linha in enumerate(A_expandida):\n",
        "    if linha[0] !=0:\n",
        "      trocar_linha(A_expandida,index)"
      ],
      "metadata": {
        "id": "Psg0FMXuiFXB"
      },
      "execution_count": 26,
      "outputs": []
    },
    {
      "cell_type": "code",
      "source": [
        "mostrar_matriz(A_expandida)"
      ],
      "metadata": {
        "id": "CN4NE9OcipoM",
        "outputId": "680fb68b-b075-4aad-eab8-6899120ef690",
        "colab": {
          "base_uri": "https://localhost:8080/"
        }
      },
      "execution_count": 27,
      "outputs": [
        {
          "output_type": "stream",
          "name": "stdout",
          "text": [
            "[-3, 0, 3, 3]\n",
            "[0, 1, 1, 1]\n",
            "[3, 2, 1, 1]\n"
          ]
        }
      ]
    },
    {
      "cell_type": "code",
      "source": [
        "verifica_triangular(A_expandida)"
      ],
      "metadata": {
        "id": "JxKbE3iZ_dpB",
        "outputId": "8503aa85-b185-48e7-a223-a0eb03d0bf8f",
        "colab": {
          "base_uri": "https://localhost:8080/"
        }
      },
      "execution_count": 28,
      "outputs": [
        {
          "output_type": "execute_result",
          "data": {
            "text/plain": [
              "False"
            ]
          },
          "metadata": {},
          "execution_count": 28
        }
      ]
    },
    {
      "cell_type": "code",
      "source": [],
      "metadata": {
        "id": "vvvmdtmrA0ra",
        "outputId": "54fa4b2d-451b-4f1e-8b78-f7d8e0ab90ce",
        "colab": {
          "base_uri": "https://localhost:8080/"
        }
      },
      "execution_count": 8,
      "outputs": [
        {
          "output_type": "execute_result",
          "data": {
            "text/plain": [
              "False"
            ]
          },
          "metadata": {},
          "execution_count": 8
        }
      ]
    }
  ]
}
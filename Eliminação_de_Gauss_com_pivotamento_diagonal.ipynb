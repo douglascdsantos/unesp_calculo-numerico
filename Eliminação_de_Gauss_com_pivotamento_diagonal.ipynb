{
  "nbformat": 4,
  "nbformat_minor": 0,
  "metadata": {
    "colab": {
      "provenance": [],
      "authorship_tag": "ABX9TyONoagixJE4HE2dqAt5UKWV",
      "include_colab_link": true
    },
    "kernelspec": {
      "name": "python3",
      "display_name": "Python 3"
    },
    "language_info": {
      "name": "python"
    }
  },
  "cells": [
    {
      "cell_type": "markdown",
      "metadata": {
        "id": "view-in-github",
        "colab_type": "text"
      },
      "source": [
        "<a href=\"https://colab.research.google.com/github/douglascdsantos/unesp_calculo-numerico/blob/main/Elimina%C3%A7%C3%A3o_de_Gauss_com_pivotamento_diagonal.ipynb\" target=\"_parent\"><img src=\"https://colab.research.google.com/assets/colab-badge.svg\" alt=\"Open In Colab\"/></a>"
      ]
    },
    {
      "cell_type": "code",
      "execution_count": 1,
      "metadata": {
        "colab": {
          "base_uri": "https://localhost:8080/"
        },
        "id": "B5DYavYBrKLj",
        "outputId": "2378da49-1291-4def-cefe-6f36c33ae6c4"
      },
      "outputs": [
        {
          "output_type": "stream",
          "name": "stdout",
          "text": [
            "-6.0\n",
            "[0, 1, 1, 1]\n",
            "[3, 2, 1, 1]\n",
            "[-3, 0, 3, 3]\n",
            "Para a coluna 1 a(0;1) é pivô\n",
            "[0, 1, 1, 1]\n",
            "[3, 2, 1, 1]\n",
            "[-3, 0, 3, 3]\n"
          ]
        }
      ],
      "source": [
        "import pandas as pd\n",
        "import numpy as np\n",
        "\n",
        "# n = int(input('tamanho da matriz quadrada: '))\n",
        "# print(f'Considerando a matriz quadrada A*x = b, com n = {n}\\ninsira:')\n",
        "# A = [[int(input(f'a({j+1};{i+1}): ')) for i in range(n)] for j in range(n)]\n",
        "# print(A)\n",
        "# b = [int(input(f'b({i+1}): ')) for i in range(n)]\n",
        "# print(b)\n",
        "\n",
        "def mostrar_matriz(matriz: list):\n",
        "    for i in matriz:\n",
        "        print(i)\n",
        "        \n",
        "def posicao_pivo(matriz_expadida: list, coluna = 2):\n",
        "    lim_sup = len(matriz_expadida) - 1\n",
        "    if 0 <= coluna and coluna < lim_sup:\n",
        "        pivo = None\n",
        "        for k,v in enumerate(matriz_expadida):\n",
        "            if v[coluna] != 0 and pivo == None:\n",
        "                print(f'Para a coluna {coluna} a({k};1) é pivô')\n",
        "                pivo = k\n",
        "        return pivo\n",
        "    else:\n",
        "        return f'Coluna fora do intervalo, insira coluna entre (0:{lim_sup})'\n",
        "\n",
        "\n",
        "n = 3\n",
        "A = [[0, 1, 1],\n",
        "     [3, 2, 1],\n",
        "     [-3, 0, 3]\n",
        "    ]\n",
        "b = [1, 1, 3]\n",
        "\n",
        "print(np.linalg.det(A))\n",
        "\n",
        "#matriz expandida\n",
        "A_expandida = A.copy()\n",
        "for k,v in enumerate(b):\n",
        "    A_expandida[k].append(v)\n",
        "A_expandida\n",
        "\n",
        "mostrar_matriz(A_expandida)\n",
        "\n",
        "a = posicao_pivo(A_expandida,1)\n",
        "if a != 0:\n",
        "    A_expandida[0], A_expandida[a] = A_expandida[a], A_expandida[0]\n",
        "mostrar_matriz(A_expandida)"
      ]
    },
    {
      "cell_type": "code",
      "source": [],
      "metadata": {
        "id": "zvNBlVZwrPA8"
      },
      "execution_count": 1,
      "outputs": []
    }
  ]
}
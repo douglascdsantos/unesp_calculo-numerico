{
  "nbformat": 4,
  "nbformat_minor": 0,
  "metadata": {
    "colab": {
      "provenance": [],
      "authorship_tag": "ABX9TyNKQeE0MoIV48vw/MgT4/p7",
      "include_colab_link": true
    },
    "kernelspec": {
      "name": "python3",
      "display_name": "Python 3"
    },
    "language_info": {
      "name": "python"
    }
  },
  "cells": [
    {
      "cell_type": "markdown",
      "metadata": {
        "id": "view-in-github",
        "colab_type": "text"
      },
      "source": [
        "<a href=\"https://colab.research.google.com/github/douglascdsantos/unesp_calculo-numerico/blob/main/Elimina%C3%A7%C3%A3o_de_Gauss_com_pivotamento_diagonal.ipynb\" target=\"_parent\"><img src=\"https://colab.research.google.com/assets/colab-badge.svg\" alt=\"Open In Colab\"/></a>"
      ]
    },
    {
      "cell_type": "code",
      "execution_count": 10,
      "metadata": {
        "colab": {
          "base_uri": "https://localhost:8080/"
        },
        "id": "B5DYavYBrKLj",
        "outputId": "f0cd6ddb-ed40-46b7-b496-2ca26a7d8f63"
      },
      "outputs": [
        {
          "output_type": "stream",
          "name": "stdout",
          "text": [
            "-6.0\n",
            "[0, 1, 1, 1]\n",
            "[3, 2, 1, 1]\n",
            "[-3, 0, 3, 3]\n",
            "[-3, 0, 3, 3]\n",
            "[0, 1, 1, 1]\n",
            "[3, 2, 1, 1]\n"
          ]
        }
      ],
      "source": [
        "import pandas as pd\n",
        "import numpy as np\n",
        "\n",
        "# n = int(input('tamanho da matriz quadrada: '))\n",
        "# print(f'Considerando a matriz quadrada A*x = b, com n = {n}\\ninsira:')\n",
        "# A = [[int(input(f'a({j+1};{i+1}): ')) for i in range(n)] for j in range(n)]\n",
        "# print(A)\n",
        "# b = [int(input(f'b({i+1}): ')) for i in range(n)]\n",
        "# print(b)\n",
        "\n",
        "def mostrar_matriz(matriz: list):\n",
        "    for i in matriz:\n",
        "        print(i)\n",
        "        \n",
        "def posicao_pivo(matriz_expadida: list, coluna = 2):\n",
        "    lim_sup = len(matriz_expadida) - 1\n",
        "    if 0 <= coluna and coluna < lim_sup:\n",
        "        pivo = None\n",
        "        for k,v in enumerate(matriz_expadida):\n",
        "            if v[coluna] != 0 and pivo == None:\n",
        "                print(f'Para a coluna {coluna} a({k};1) é pivô')\n",
        "                pivo = k\n",
        "        return pivo\n",
        "    else:\n",
        "        return f'Coluna fora do intervalo, insira coluna entre (0:{lim_sup})'\n",
        "\n",
        "def trocar_linha(matriz_expadida: list, linha_a_ser_movimentada):\n",
        "  matriz_expadida[0], matriz_expadida[linha_a_ser_movimentada] = matriz_expadida[linha_a_ser_movimentada], matriz_expadida[0]\n",
        "\n",
        "n = 3\n",
        "A = [[0, 1, 1],\n",
        "     [3, 2, 1],\n",
        "     [-3, 0, 3]\n",
        "    ]\n",
        "b = [1, 1, 3]\n",
        "\n",
        "print(np.linalg.det(A))\n",
        "\n",
        "#matriz expandida\n",
        "A_expandida = A.copy()\n",
        "for k,v in enumerate(b):\n",
        "    A_expandida[k].append(v)\n",
        "\n",
        "mostrar_matriz(A_expandida)\n",
        "\n",
        "# elemento a11 não nulo\n",
        "if A_expandida[0][0] == 0:\n",
        "  for index,linha in enumerate(A_expandida):\n",
        "    if linha[0] !=0:\n",
        "      trocar_linha(A_expandida,index)\n",
        "\n",
        "\n",
        "mostrar_matriz(A_expandida)\n",
        "\n",
        "# a = posicao_pivo(A_expandida,1)\n",
        "# if a != 0:\n",
        "#     trocar_linha(A_expandida,a)\n",
        "# mostrar_matriz(A_expandida)"
      ]
    },
    {
      "cell_type": "code",
      "source": [],
      "metadata": {
        "id": "IZ1q200C7Q3C",
        "outputId": "4e2f624b-6a56-4e4b-dacb-89a6b0456c0a",
        "colab": {
          "base_uri": "https://localhost:8080/"
        }
      },
      "execution_count": 3,
      "outputs": [
        {
          "output_type": "execute_result",
          "data": {
            "text/plain": [
              "[[0, 1, 1, 1], [3, 2, 1, 1], [-3, 0, 3, 3]]"
            ]
          },
          "metadata": {},
          "execution_count": 3
        }
      ]
    },
    {
      "cell_type": "code",
      "source": [
        "mostrar_matriz(A_expandida)"
      ],
      "metadata": {
        "id": "zvNBlVZwrPA8",
        "outputId": "eeca0742-598b-462b-9b62-936c36b76f52",
        "colab": {
          "base_uri": "https://localhost:8080/"
        }
      },
      "execution_count": 11,
      "outputs": [
        {
          "output_type": "stream",
          "name": "stdout",
          "text": [
            "[-3, 0, 3, 3]\n",
            "[0, 1, 1, 1]\n",
            "[3, 2, 1, 1]\n"
          ]
        }
      ]
    },
    {
      "cell_type": "code",
      "source": [
        "triangular = []\n",
        "for index,linha in enumerate(A_expandida):\n",
        "  linha_verificar = index - 1\n",
        "  if linha_verificar >= 0:\n",
        "    print(linha_verificar)\n",
        "    print([linha[coluna] == 0 for coluna in range(linha_verificar + 1)])\n",
        "    for i in [linha[coluna] == 0 for coluna in range(linha_verificar + 1)]:\n",
        "       triangular.append(i)\n",
        "  print(index,linha)\n",
        "triangular"
      ],
      "metadata": {
        "id": "JxKbE3iZ_dpB",
        "outputId": "37d6ffea-716e-4438-f6be-84146b3a1982",
        "colab": {
          "base_uri": "https://localhost:8080/"
        }
      },
      "execution_count": 21,
      "outputs": [
        {
          "output_type": "stream",
          "name": "stdout",
          "text": [
            "0 [-3, 0, 3, 3]\n",
            "0\n",
            "[True]\n",
            "1 [0, 1, 1, 1]\n",
            "1\n",
            "[False, False]\n",
            "2 [3, 2, 1, 1]\n"
          ]
        },
        {
          "output_type": "execute_result",
          "data": {
            "text/plain": [
              "[True, False, False]"
            ]
          },
          "metadata": {},
          "execution_count": 21
        }
      ]
    },
    {
      "cell_type": "code",
      "source": [
        "triangular"
      ],
      "metadata": {
        "id": "vvvmdtmrA0ra",
        "outputId": "451ad264-6dc2-497a-8b93-afb77975ac19",
        "colab": {
          "base_uri": "https://localhost:8080/"
        }
      },
      "execution_count": 20,
      "outputs": [
        {
          "output_type": "execute_result",
          "data": {
            "text/plain": [
              "[False, False]"
            ]
          },
          "metadata": {},
          "execution_count": 20
        }
      ]
    }
  ]
}